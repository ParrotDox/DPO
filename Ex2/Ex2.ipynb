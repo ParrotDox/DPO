{
 "cells": [
  {
   "cell_type": "markdown",
   "metadata": {},
   "source": [
    "# Практика №2"
   ]
  },
  {
   "cell_type": "markdown",
   "metadata": {},
   "source": [
    "Сгенерировать, используя модуль псевдослучайных чисел random, или ввести с клавиатуры список целых чисел. Вывести в консоль, затем перевернуть его и снова вывести в консоль."
   ]
  },
  {
   "cell_type": "markdown",
   "metadata": {},
   "source": [
    "## Задание 1"
   ]
  },
  {
   "cell_type": "code",
   "execution_count": 1,
   "metadata": {},
   "outputs": [
    {
     "name": "stdout",
     "output_type": "stream",
     "text": [
      "[8, 8, 9, 0, 6, 8]\n",
      "[8, 6, 0, 9, 8, 8]\n"
     ]
    }
   ],
   "source": [
    "import random\n",
    "\n",
    "def genLi(k):\n",
    "    return [random.randrange(0,10) for _ in range(k)]\n",
    "\n",
    "li = genLi(6)\n",
    "print(li)\n",
    "print(list(reversed(li)))"
   ]
  },
  {
   "cell_type": "markdown",
   "metadata": {},
   "source": []
  },
  {
   "cell_type": "markdown",
   "metadata": {},
   "source": [
    "## Задание 2"
   ]
  },
  {
   "cell_type": "markdown",
   "metadata": {},
   "source": [
    "Сгенерировать, используя модуль псевдослучайных чисел random, или ввести с клавиатуры два списка целых чисел. Вывести их в консоль. Создать новый пустой список. Добавить в него все четные (по индексу) элементы первого списка и все нечетные (по индексу) элементы второго списка. Вывести третий список в консоль."
   ]
  },
  {
   "cell_type": "code",
   "execution_count": 4,
   "metadata": {},
   "outputs": [
    {
     "name": "stdout",
     "output_type": "stream",
     "text": [
      "[6, 9, 4, 4, 0, 3, 7, 1, 5, 7]\n",
      "[8, 9, 8, 1, 4, 8, 8, 0, 7, 1]\n",
      "[6, 9, 4, 1, 0, 8, 7, 0, 5, 1]\n"
     ]
    }
   ],
   "source": [
    "li1 = genLi(10)\n",
    "li2 = genLi(10)\n",
    "\n",
    "print(li1)\n",
    "print(li2)\n",
    "\n",
    "resultLi = []\n",
    "\n",
    "resultLi = [li1[i] if (i % 2 == 0) else li2[i] for i in range(10)]\n",
    "\n",
    "print(resultLi)"
   ]
  },
  {
   "cell_type": "markdown",
   "metadata": {},
   "source": [
    "## Задание 3"
   ]
  },
  {
   "cell_type": "markdown",
   "metadata": {},
   "source": [
    "Сгенерировать, используя модуль псевдослучайных чисел random, или ввести с клавиатуры список произвольных элементов (целые числа, числа с плавающей точкой, строки). Вывести в консоль. Убрать из него все дубликаты через приведение типов. Вывести в консоль."
   ]
  },
  {
   "cell_type": "code",
   "execution_count": 12,
   "metadata": {},
   "outputs": [
    {
     "name": "stdout",
     "output_type": "stream",
     "text": [
      "[2, 7, 2, 5, 8, 1, 4, 2, 3, 6, 9.413595830377119, 5.505101453236232, 'Chicken', 'Strawberry', 'Rock', 'Stone', 'Chicken']\n",
      "{1, 2, 3, 4, 5, 6, 7, 8, 9.413595830377119, 5.505101453236232, 'Stone', 'Chicken', 'Rock', 'Strawberry'}\n"
     ]
    }
   ],
   "source": [
    "def genLiFloat(k):\n",
    "    return [random.uniform(0.0, 10.0) for _ in range(k)]\n",
    "\n",
    "resultLi = genLi(10) + genLiFloat(2) + [\"Chicken\", \"Strawberry\", \"Rock\", \"Stone\", \"Chicken\"]\n",
    "print(resultLi)\n",
    "print(set(resultLi))"
   ]
  },
  {
   "cell_type": "markdown",
   "metadata": {},
   "source": [
    "## Задание 4"
   ]
  },
  {
   "cell_type": "markdown",
   "metadata": {},
   "source": [
    "Сгенерировать, используя модуль псевдослучайных чисел random, или ввести с клавиатуры словарь, где ключом является строка, значением — целое число или число с плавающей точкой. Вывести в консоль. Для всех уникальных значений создать кортеж, где первым элементом будет значение, вторым — список связанных с ним ключей. Собрать эти кортежи в список, вывести его в консоль."
   ]
  },
  {
   "cell_type": "code",
   "execution_count": 37,
   "metadata": {},
   "outputs": [
    {
     "name": "stdout",
     "output_type": "stream",
     "text": [
      "{'One': 1, 'OneOne': 1, 'Two': 2, 'ThreePointOne': 3.1, 'Four': 4, 'Five': 4, 'Six': 4}\n",
      "Value is 1 keys are ['One', 'OneOne']\n",
      "Value is 2 keys are ['Two']\n",
      "Value is 3.1 keys are ['ThreePointOne']\n",
      "Value is 4 keys are ['Four', 'Five', 'Six']\n",
      "[(1, ['One', 'OneOne']), (2, ['Two']), (3.1, ['ThreePointOne']), (4, ['Four', 'Five', 'Six'])]\n"
     ]
    }
   ],
   "source": [
    "dict = {}\n",
    "dict[\"One\"] = 1\n",
    "dict[\"OneOne\"] = 1\n",
    "dict[\"Two\"] = 2\n",
    "dict[\"ThreePointOne\"] = 3.1\n",
    "dict[\"Four\"] = 4\n",
    "dict[\"Five\"] = 4\n",
    "dict[\"Six\"] = 4\n",
    "print(dict)\n",
    "setVal = set(val for val in dict.values())\n",
    "\n",
    "resultLi = []\n",
    "for val in setVal:\n",
    "    keys = []\n",
    "    for key in dict:\n",
    "        if dict[key] == val:\n",
    "            keys.append(key)\n",
    "    print(f\"Value is {val} keys are {keys}\")\n",
    "    tupleCell = []\n",
    "    tupleCell.append(val)\n",
    "    tupleCell.append(keys)\n",
    "    resultLi.append(tuple(tupleCell))\n",
    "    \n",
    "\n",
    "print(resultLi)    \n",
    "\n",
    "\n",
    "\n",
    "\n"
   ]
  },
  {
   "cell_type": "markdown",
   "metadata": {},
   "source": [
    "## Задание 5"
   ]
  },
  {
   "cell_type": "markdown",
   "metadata": {},
   "source": [
    "Сгенерировать, используя модуль псевдослучайных чисел random, или ввести с клавиатуры два словаря, где ключом является строка, значением — целое число или число с плавающей точкой. Вывести в консоль. Найти пересечения множеств значений словарей. Создать новый словарь, содержащий только те пары ключ-значение, значения из которых входит в пересечение. Вывести в консоль."
   ]
  },
  {
   "cell_type": "code",
   "execution_count": 39,
   "metadata": {},
   "outputs": [
    {
     "name": "stdout",
     "output_type": "stream",
     "text": [
      "{'One': 1, 'Two': 2, 'TwoTwo': 22, 'Four': 4, 'Sheep': 'Blaaaaar!!'}\n",
      "{'Eno': -1, 'Two': 2, 'OwtOwt': 22, 'Cow': 'PolishCow', 'Sheep': 'Blaaaaar!!'}\n",
      "{'Two': 2, 'Sheep': 'Blaaaaar!!'}\n"
     ]
    }
   ],
   "source": [
    "dictOne = {}\n",
    "dictOne[\"One\"] = 1\n",
    "dictOne[\"Two\"] = 2\n",
    "dictOne[\"TwoTwo\"] = 22\n",
    "dictOne[\"Four\"] = 4\n",
    "dictOne[\"Sheep\"] = \"Blaaaaar!!\"\n",
    "dictTwo = {}\n",
    "dictTwo[\"Eno\"] = -1\n",
    "dictTwo[\"Two\"] = 2\n",
    "dictTwo[\"OwtOwt\"] = 22\n",
    "dictTwo[\"Cow\"] = \"PolishCow\"\n",
    "dictTwo[\"Sheep\"] = \"Blaaaaar!!\"\n",
    "print(dictOne)\n",
    "print(dictTwo)\n",
    "\n",
    "resultDict = {}\n",
    "for keyOne in dictOne:\n",
    "    for keyTwo in dictTwo:\n",
    "        if(keyOne == keyTwo):\n",
    "            if(dictOne[keyOne] == dictTwo[keyTwo]):\n",
    "                dictCell = {keyOne : dictOne[keyOne]}\n",
    "                resultDict.update(dictCell)\n",
    "print(resultDict)\n",
    "\n",
    "\n",
    "\n"
   ]
  }
 ],
 "metadata": {
  "kernelspec": {
   "display_name": "Python 3",
   "language": "python",
   "name": "python3"
  },
  "language_info": {
   "codemirror_mode": {
    "name": "ipython",
    "version": 3
   },
   "file_extension": ".py",
   "mimetype": "text/x-python",
   "name": "python",
   "nbconvert_exporter": "python",
   "pygments_lexer": "ipython3",
   "version": "3.13.0"
  }
 },
 "nbformat": 4,
 "nbformat_minor": 2
}
